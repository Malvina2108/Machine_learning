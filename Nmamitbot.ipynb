{
 "cells": [
  {
   "cell_type": "markdown",
   "metadata": {},
   "source": [
    "# A Simple Chatbot for college\n",
    "Chatbot is created using natural language processing, also using Tkinter.This chatbot is for college, if you have any enquiry about the college you can ask."
   ]
  },
  {
   "cell_type": "code",
   "execution_count": 1,
   "metadata": {},
   "outputs": [
    {
     "name": "stdout",
     "output_type": "stream",
     "text": [
      "Requirement already satisfied: nltk in c:\\users\\hp\\conda3\\lib\\site-packages (3.4)\n",
      "Requirement already satisfied: six in c:\\users\\hp\\conda3\\lib\\site-packages (from nltk) (1.12.0)\n",
      "Requirement already satisfied: singledispatch in c:\\users\\hp\\conda3\\lib\\site-packages (from nltk) (3.4.0.3)\n"
     ]
    }
   ],
   "source": [
    "#Dowdloading the library if does't exists\n",
    "!pip install nltk"
   ]
  },
  {
   "cell_type": "code",
   "execution_count": null,
   "metadata": {},
   "outputs": [
    {
     "name": "stdout",
     "output_type": "stream",
     "text": [
      "Requirement already satisfied: newspaper3k in c:\\users\\hp\\conda3\\lib\\site-packages (0.2.8)\n",
      "Requirement already satisfied: requests>=2.10.0 in c:\\users\\hp\\conda3\\lib\\site-packages (from newspaper3k) (2.21.0)\n",
      "Requirement already satisfied: Pillow>=3.3.0 in c:\\users\\hp\\conda3\\lib\\site-packages (from newspaper3k) (5.3.0)\n",
      "Requirement already satisfied: tinysegmenter==0.3 in c:\\users\\hp\\conda3\\lib\\site-packages (from newspaper3k) (0.3)\n",
      "Requirement already satisfied: tldextract>=2.0.1 in c:\\users\\hp\\conda3\\lib\\site-packages (from newspaper3k) (2.2.2)\n",
      "Requirement already satisfied: beautifulsoup4>=4.4.1 in c:\\users\\hp\\conda3\\lib\\site-packages (from newspaper3k) (4.6.3)\n",
      "Requirement already satisfied: PyYAML>=3.11 in c:\\users\\hp\\conda3\\lib\\site-packages (from newspaper3k) (3.13)\n",
      "Requirement already satisfied: lxml>=3.6.0 in c:\\users\\hp\\conda3\\lib\\site-packages (from newspaper3k) (4.2.5)\n",
      "Requirement already satisfied: nltk>=3.2.1 in c:\\users\\hp\\conda3\\lib\\site-packages (from newspaper3k) (3.4)\n",
      "Requirement already satisfied: feedparser>=5.2.1 in c:\\users\\hp\\conda3\\lib\\site-packages (from newspaper3k) (5.2.1)\n",
      "Requirement already satisfied: feedfinder2>=0.0.4 in c:\\users\\hp\\conda3\\lib\\site-packages (from newspaper3k) (0.0.4)\n",
      "Requirement already satisfied: jieba3k>=0.35.1 in c:\\users\\hp\\conda3\\lib\\site-packages (from newspaper3k) (0.35.1)\n",
      "Requirement already satisfied: python-dateutil>=2.5.3 in c:\\users\\hp\\conda3\\lib\\site-packages (from newspaper3k) (2.6.1)\n",
      "Requirement already satisfied: cssselect>=0.9.2 in c:\\users\\hp\\conda3\\lib\\site-packages (from newspaper3k) (1.1.0)\n",
      "Requirement already satisfied: urllib3<1.25,>=1.21.1 in c:\\users\\hp\\conda3\\lib\\site-packages (from requests>=2.10.0->newspaper3k) (1.24.1)\n",
      "Requirement already satisfied: chardet<3.1.0,>=3.0.2 in c:\\users\\hp\\conda3\\lib\\site-packages (from requests>=2.10.0->newspaper3k) (3.0.4)\n",
      "Requirement already satisfied: idna<2.9,>=2.5 in c:\\users\\hp\\conda3\\lib\\site-packages (from requests>=2.10.0->newspaper3k) (2.8)\n",
      "Requirement already satisfied: certifi>=2017.4.17 in c:\\users\\hp\\conda3\\lib\\site-packages (from requests>=2.10.0->newspaper3k) (2018.11.29)\n",
      "Requirement already satisfied: setuptools in c:\\users\\hp\\conda3\\lib\\site-packages (from tldextract>=2.0.1->newspaper3k) (40.6.3)\n",
      "Requirement already satisfied: requests-file>=1.4 in c:\\users\\hp\\conda3\\lib\\site-packages (from tldextract>=2.0.1->newspaper3k) (1.5.1)\n",
      "Requirement already satisfied: six in c:\\users\\hp\\conda3\\lib\\site-packages (from nltk>=3.2.1->newspaper3k) (1.12.0)\n",
      "Requirement already satisfied: singledispatch in c:\\users\\hp\\conda3\\lib\\site-packages (from nltk>=3.2.1->newspaper3k) (3.4.0.3)\n"
     ]
    }
   ],
   "source": [
    "!pip install newspaper3k"
   ]
  },
  {
   "cell_type": "code",
   "execution_count": null,
   "metadata": {},
   "outputs": [],
   "source": [
    "#importing the libraries\n",
    "from newspaper import Article\n",
    "import random\n",
    "import string\n",
    "import nltk\n",
    "from sklearn.feature_extraction.text import CountVectorizer\n",
    "from sklearn.metrics.pairwise import cosine_similarity\n",
    "import numpy as np\n",
    "import warnings\n",
    "warnings.filterwarnings('ignore')"
   ]
  },
  {
   "cell_type": "code",
   "execution_count": 2,
   "metadata": {},
   "outputs": [
    {
     "data": {
      "text/plain": [
       "True"
      ]
     },
     "execution_count": 2,
     "metadata": {},
     "output_type": "execute_result"
    }
   ],
   "source": [
    "#Divides a text into list of sentences\n",
    "nltk.download('punkt',quiet=True)"
   ]
  },
  {
   "cell_type": "code",
   "execution_count": 3,
   "metadata": {},
   "outputs": [],
   "source": [
    "#Dataset in the form of article link it and downlaod\n",
    "article = Article(\"https://en.wikipedia.org/wiki/N.M.A.M._Institute_of_Technology\")\n",
    "article.download()\n",
    "article.parse()\n",
    "article.nlp()\n",
    "corpus = article.text"
   ]
  },
  {
   "cell_type": "code",
   "execution_count": 4,
   "metadata": {},
   "outputs": [
    {
     "name": "stdout",
     "output_type": "stream",
     "text": [
      "N.M.A.M. Institute of Technology (NMAMIT), full name Nitte Mahalinga Adyanthaya Memorial Institute of Technology, is an autonomous engineering college in Nitte, Karnataka, India. It was established in 1986, with programs in computer science, mechanical engineering, civil engineering and electrical engineering.\n",
      "\n",
      "Currently it offers B.E. in Artificial Intelligence & Machine Learning, Biotechnology Engineering, Civil Engineering, Computer & Communications Engineering, Computer Science and Engineering, Electronics and Communication Engineering, Electrical and Electronics Engineering, Information Science and Engineering and Mechanical Engineering. It is one of the best engineering college in Karnataka.[1]\n",
      "\n",
      "The college is run by the Nitte Education Trust, which was founded in 1979 by Justice Kowdoor Sadananda Hegde, former Chief Justice of the Supreme Court and former Speaker of the Lok Sabha.[2] The college is affiliated to the Visvesvaraya Technological University, Belgaum. It received the autonomous status in 2007-08\n",
      "\n",
      "Rankings [ edit ]\n",
      "\n",
      "N.M.A.M. Institute of Technology was ranked 128th among engineering colleges by the National Institutional Ranking Framework (NIRF) in 2019.[3]\n",
      "\n",
      "Campus [ edit ]\n",
      "\n",
      "The Central Library\n",
      "\n",
      "The College is situated in the village of Nitte in an interior area of Udupi district. It is around 57 kilometers from Mangalore. The various departments, laboratories, and hostels are located on a 100-acre (0.40 km2) campus.\n",
      "\n",
      "Notable Alumni [ edit ]\n",
      "\n",
      "Rakshith Shetty, Actor in Kannada film industry\n",
      "\n",
      "Kavya Shetty, Actress in Kannada film industry\n",
      "\n",
      "Nabha Natesh, Actress in Film industry\n",
      "\n",
      "Rohith Bhat, CEO of Robosoft Technologies\n"
     ]
    }
   ],
   "source": [
    "#printing the data\n",
    "print(corpus)"
   ]
  },
  {
   "cell_type": "code",
   "execution_count": 5,
   "metadata": {},
   "outputs": [],
   "source": [
    "#Converting the text into list\n",
    "text = corpus\n",
    "sentence_list = nltk.sent_tokenize(text)"
   ]
  },
  {
   "cell_type": "code",
   "execution_count": 6,
   "metadata": {},
   "outputs": [
    {
     "name": "stdout",
     "output_type": "stream",
     "text": [
      "['N.M.A.M.', 'Institute of Technology (NMAMIT), full name Nitte Mahalinga Adyanthaya Memorial Institute of Technology, is an autonomous engineering college in Nitte, Karnataka, India.', 'It was established in 1986, with programs in computer science, mechanical engineering, civil engineering and electrical engineering.', 'Currently it offers B.E.', 'in Artificial Intelligence & Machine Learning, Biotechnology Engineering, Civil Engineering, Computer & Communications Engineering, Computer Science and Engineering, Electronics and Communication Engineering, Electrical and Electronics Engineering, Information Science and Engineering and Mechanical Engineering.', 'It is one of the best engineering college in Karnataka.', '[1]\\n\\nThe college is run by the Nitte Education Trust, which was founded in 1979 by Justice Kowdoor Sadananda Hegde, former Chief Justice of the Supreme Court and former Speaker of the Lok Sabha.', '[2] The college is affiliated to the Visvesvaraya Technological University, Belgaum.', 'It received the autonomous status in 2007-08\\n\\nRankings [ edit ]\\n\\nN.M.A.M.', 'Institute of Technology was ranked 128th among engineering colleges by the National Institutional Ranking Framework (NIRF) in 2019.', '[3]\\n\\nCampus [ edit ]\\n\\nThe Central Library\\n\\nThe College is situated in the village of Nitte in an interior area of Udupi district.', 'It is around 57 kilometers from Mangalore.', 'The various departments, laboratories, and hostels are located on a 100-acre (0.40 km2) campus.', 'Notable Alumni [ edit ]\\n\\nRakshith Shetty, Actor in Kannada film industry\\n\\nKavya Shetty, Actress in Kannada film industry\\n\\nNabha Natesh, Actress in Film industry\\n\\nRohith Bhat, CEO of Robosoft Technologies']\n"
     ]
    }
   ],
   "source": [
    "print(sentence_list)"
   ]
  },
  {
   "cell_type": "code",
   "execution_count": 26,
   "metadata": {},
   "outputs": [],
   "source": [
    "#Code for chatbot to respond\n",
    "def greeting_response(text):\n",
    "    text = text.lower()\n",
    "    \n",
    "    bot_greetings = ['hi','hey','hello']\n",
    "    user_greetings = ['hi','hey','hello','greetings']\n",
    "    exit_list=['exit','see you later','bye','quit','break']\n",
    "    \n",
    "    for word in text.split():\n",
    "        if word in user_greetings  :\n",
    "            return random.choice(bot_greetings)\n",
    "        elif word in exit_list:\n",
    "            return random.choice(exit_list)"
   ]
  },
  {
   "cell_type": "code",
   "execution_count": 27,
   "metadata": {},
   "outputs": [],
   "source": [
    "def index_sort(list_var):\n",
    "    length = len(list_var)\n",
    "    list_index = list(range(0,length))\n",
    "    \n",
    "    x= list_var\n",
    "    for i in range(length):\n",
    "        for j in range(length):\n",
    "            if x[list_index[i]] > x[list_index[j]]:\n",
    "                temp = list_index[i]\n",
    "                list_index[i] = list_index[j]\n",
    "                list_index[j] = temp\n",
    "    return list_index"
   ]
  },
  {
   "cell_type": "code",
   "execution_count": 28,
   "metadata": {},
   "outputs": [],
   "source": [
    "def bot_response(user_input):\n",
    "    user_input = user_input.lower()\n",
    "    sentence_list.append(user_input)\n",
    "    bot_response = ''\n",
    "    cm = CountVectorizer().fit_transform(sentence_list)\n",
    "    similarity_scores = cosine_similarity(cm[-1],cm)\n",
    "    similarity_scores_list = similarity_scores.flatten()\n",
    "    index = index_sort(similarity_scores_list)\n",
    "    index = index[1:]\n",
    "    response_flag = 0\n",
    "    \n",
    "    j = 0\n",
    "    for i in range(len(index)):\n",
    "        if similarity_scores_list[index[i]] > 0.0:\n",
    "            bot_response = bot_response +' '+ sentence_list[index[i]]\n",
    "            response_flag = 1\n",
    "            j = j+1\n",
    "        if j > 2:\n",
    "            break\n",
    "            \n",
    "    if response_flag == 0:\n",
    "        bot_response = bot_response+' '+ \"I apologize, I don't understand\"\n",
    "    sentence_list.remove(user_input)\n",
    "    \n",
    "    return bot_response\n",
    "        \n",
    "        \n",
    "    "
   ]
  },
  {
   "cell_type": "code",
   "execution_count": 10,
   "metadata": {},
   "outputs": [],
   "source": [
    "def nmamitbot(user_input):\n",
    "    print('I am NMAMIT Bot I can your question')\n",
    "    exit_list=['exit','see you later','bye','quit','break']\n",
    "    \n",
    "    #user_input = textinput.get(\"1.0\",\"end\")\n",
    "    if user_input.lower() in exit_list:\n",
    "        print('NMAMIT Bot: It was a pleasure to chat with you, bye')\n",
    "    else:\n",
    "        if greeting_response(user_input) != None:\n",
    "            print('NMAMIT bot : '+greeting_response(user_input))\n",
    "        else:\n",
    "            print('NMAMIT bot : '+bot_response(user_input))"
   ]
  },
  {
   "cell_type": "code",
   "execution_count": 36,
   "metadata": {},
   "outputs": [],
   "source": [
    "#importing the tkinter for the front end \n",
    "import tkinter\n",
    "from tkinter import *\n",
    "def send():\n",
    "    user_input = EntryBox.get(\"1.0\",\"end\")\n",
    "    EntryBox.delete(\"0.0\",END)\n",
    "    if user_input != '':\n",
    "        ChatLog.config(state=NORMAL)\n",
    "        ChatLog.insert(END,\"You: \" + user_input )\n",
    "        ChatLog.config(foreground=\"#442265\", font=(\"Verdana\", 12 ))\n",
    "    \n",
    "        \n",
    "        if greeting_response(user_input) != None:\n",
    "            ChatLog.insert(END,'NMAMIT bot : '+greeting_response(user_input)+'\\n\\n')\n",
    "        else:\n",
    "            ChatLog.insert(END,'NMAMIT bot : '+bot_response(user_input)+'\\n\\n')\n",
    "        \n",
    "        ChatLog.config(state=DISABLED)\n",
    "        ChatLog.yview(END)\n",
    "base = Tk()\n",
    "base.title(\"Hello\")\n",
    "base.geometry(\"400x500\")\n",
    "\n",
    "#Create Chat window\n",
    "ChatLog = Text(base, bd=0, bg=\"white\", height=\"8\", width=\"50\", font=\"Arial\",)\n",
    "ChatLog.config(state=DISABLED)\n",
    "#Bind scrollbar to Chat window\n",
    "scrollbar = Scrollbar(base, command=ChatLog.yview, cursor=\"heart\")\n",
    "ChatLog['yscrollcommand'] = scrollbar.set\n",
    "#Create Button to send message\n",
    "SendButton = Button(base, font=(\"Verdana\",12,'bold'), text=\"Send\", width=\"12\", height=5,\n",
    "                    bd=0, bg=\"#32de97\", activebackground=\"#3c9d9b\",fg='#ffffff',\n",
    "                    command= send )\n",
    "#Create the box to enter message\n",
    "EntryBox = Text(base, bd=0, bg=\"white\",width=\"29\", height=\"5\", font=(\"Arial\",20))\n",
    "#Place all components on the screen\n",
    "scrollbar.place(x=376,y=6, height=386)\n",
    "ChatLog.place(x=6,y=6, height=386, width=370)\n",
    "EntryBox.place(x=128, y=401, height=50, width=265)\n",
    "SendButton.place(x=6, y=401, height=50)\n",
    "base.mainloop()"
   ]
  }
 ],
 "metadata": {
  "kernelspec": {
   "display_name": "Python 3",
   "language": "python",
   "name": "python3"
  },
  "language_info": {
   "codemirror_mode": {
    "name": "ipython",
    "version": 3
   },
   "file_extension": ".py",
   "mimetype": "text/x-python",
   "name": "python",
   "nbconvert_exporter": "python",
   "pygments_lexer": "ipython3",
   "version": "3.7.1"
  }
 },
 "nbformat": 4,
 "nbformat_minor": 2
}
